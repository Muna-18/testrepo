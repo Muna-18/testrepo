{
 "cells": [
  {
   "cell_type": "markdown",
   "id": "f220f199-dd7e-424a-b005-591a430f6376",
   "metadata": {},
   "source": [
    "# Scenario-Based Question:\n",
    "You are working as a Data Analyst, and your manager asks you to process some tabular data from an HTML table on a webpage. You need to:\n",
    "\n",
    "1. Create an empty DataFrame.\n",
    "2. Extract a basic dataset from an HTML table using pd.read_html and store it in a DataFrame.\n",
    "3. Specify column names for better readability.\n",
    "4. Rename a column to improve clarity.\n",
    "5. Add a new column at a specific location with default values.\n",
    "6. Drop an unnecessary column from the dataset.\n",
    "7. Append a new row to the DataFrame.\n",
    "8. Drop a specific row from the DataFrame.\n",
    "9. Update a specific row’s value.\n",
    "10. Perform basic operations, including:\n",
    "    * head(), tail(), info(), describe()\n",
    "    * sum(), min(), max(), std(), mean(), mode()\n",
    "11. Subset rows, columns, and both.\n",
    "12. Subset using labels (loc) and positions (iloc).\n",
    "13. Filter the DataFrame using:\n",
    "    * A single condition.\n",
    "    * Multiple conditions.\n",
    "14. Print all outputs at each step.\n",
    "\n",
    "Now, implement the solution in Python using pandas:"
   ]
  },
  {
   "cell_type": "code",
   "execution_count": 1,
   "id": "623fcbb7-193a-4b9a-96b3-1c0505f21bad",
   "metadata": {},
   "outputs": [],
   "source": [
    "import pandas as pd"
   ]
  },
  {
   "cell_type": "code",
   "execution_count": 10,
   "id": "d3197da6-b489-4ef7-b445-a2b4c5b61b9e",
   "metadata": {},
   "outputs": [
    {
     "data": {
      "text/html": [
       "<style>:root { --jp-notebook-max-width: 100% !important; }</style>"
      ],
      "text/plain": [
       "<IPython.core.display.HTML object>"
      ]
     },
     "metadata": {},
     "output_type": "display_data"
    },
    {
     "data": {
      "text/html": [
       "<style>.container { width:100% !important; }</style>"
      ],
      "text/plain": [
       "<IPython.core.display.HTML object>"
      ]
     },
     "metadata": {},
     "output_type": "display_data"
    },
    {
     "data": {
      "text/html": [
       "<style>.output_result { max-width:100% !important; }</style>"
      ],
      "text/plain": [
       "<IPython.core.display.HTML object>"
      ]
     },
     "metadata": {},
     "output_type": "display_data"
    },
    {
     "data": {
      "text/html": [
       "<style>.prompt { display:none !important; }</style>"
      ],
      "text/plain": [
       "<IPython.core.display.HTML object>"
      ]
     },
     "metadata": {},
     "output_type": "display_data"
    }
   ],
   "source": [
    "from IPython.display import display, HTML\n",
    "display(HTML(\"<style>:root { --jp-notebook-max-width: 100% !important; }</style>\"))\n",
    "display(HTML(\"<style>.container { width:100% !important; }</style>\"))\n",
    "display(HTML(\"<style>.output_result { max-width:100% !important; }</style>\"))\n",
    "display(HTML(\"<style>.prompt { display:none !important; }</style>\"))"
   ]
  },
  {
   "cell_type": "code",
   "execution_count": 11,
   "id": "fa92ba6d-124b-483b-8fb1-758f5ed659cd",
   "metadata": {},
   "outputs": [
    {
     "name": "stdout",
     "output_type": "stream",
     "text": [
      "Empty DataFrame:\n",
      " Empty DataFrame\n",
      "Columns: []\n",
      "Index: []\n"
     ]
    }
   ],
   "source": [
    "# 1. Create an empty DataFrame\n",
    "df1 = pd.DataFrame()\n",
    "print(\"Empty DataFrame:\\n\", df1)\n"
   ]
  },
  {
   "cell_type": "code",
   "execution_count": 12,
   "id": "50b73b67-4d58-4738-bb9a-750d5197bc0d",
   "metadata": {},
   "outputs": [
    {
     "name": "stdout",
     "output_type": "stream",
     "text": [
      "\n",
      "Extracted DataFrame:\n",
      "                         Company           Contact  Country\n",
      "0           Alfreds Futterkiste      Maria Anders  Germany\n",
      "1    Centro comercial Moctezuma   Francisco Chang   Mexico\n",
      "2                  Ernst Handel     Roland Mendel  Austria\n",
      "3                Island Trading     Helen Bennett       UK\n",
      "4  Laughing Bacchus Winecellars   Yoshi Tannamuri   Canada\n",
      "5  Magazzini Alimentari Riuniti  Giovanni Rovelli    Italy\n"
     ]
    }
   ],
   "source": [
    "\n",
    "# 2. Extract a sample dataset from an online HTML table\n",
    "url = \"https://www.w3schools.com/html/html_tables.asp\"  # Example website with an HTML table\n",
    "df_list = pd.read_html(url)  # Extract tables\n",
    "df1 = df_list[0]  # Selecting the first table\n",
    "print(\"\\nExtracted DataFrame:\\n\", df1)"
   ]
  },
  {
   "cell_type": "code",
   "execution_count": 13,
   "id": "9da9ccf3-0428-4a83-9d0a-58bdca6b3e45",
   "metadata": {},
   "outputs": [
    {
     "name": "stdout",
     "output_type": "stream",
     "text": [
      "\n",
      "Updated Column Names:\n",
      "                         Company           Contact  Country\n",
      "0           Alfreds Futterkiste      Maria Anders  Germany\n",
      "1    Centro comercial Moctezuma   Francisco Chang   Mexico\n",
      "2                  Ernst Handel     Roland Mendel  Austria\n",
      "3                Island Trading     Helen Bennett       UK\n",
      "4  Laughing Bacchus Winecellars   Yoshi Tannamuri   Canada\n",
      "5  Magazzini Alimentari Riuniti  Giovanni Rovelli    Italy\n"
     ]
    }
   ],
   "source": [
    "# 3. Specify or rename column names\n",
    "df1.columns = [\"Company\", \"Contact\", \"Country\"]\n",
    "print(\"\\nUpdated Column Names:\\n\", df1)\n"
   ]
  },
  {
   "cell_type": "code",
   "execution_count": 14,
   "id": "43940372-1941-4707-8cb5-e00c675df8b5",
   "metadata": {},
   "outputs": [
    {
     "name": "stdout",
     "output_type": "stream",
     "text": [
      "\n",
      "Renamed Column:\n",
      "                        Companys           Contact  Country\n",
      "0           Alfreds Futterkiste      Maria Anders  Germany\n",
      "1    Centro comercial Moctezuma   Francisco Chang   Mexico\n",
      "2                  Ernst Handel     Roland Mendel  Austria\n",
      "3                Island Trading     Helen Bennett       UK\n",
      "4  Laughing Bacchus Winecellars   Yoshi Tannamuri   Canada\n",
      "5  Magazzini Alimentari Riuniti  Giovanni Rovelli    Italy\n"
     ]
    }
   ],
   "source": [
    "\n",
    "# 4. Rename a column\n",
    "df1.rename(columns={\"Company\": \"Companys\"}, inplace=True)\n",
    "print(\"\\nRenamed Column:\\n\", df1)\n"
   ]
  },
  {
   "cell_type": "code",
   "execution_count": 15,
   "id": "9bacb362-34b6-4e48-8c1b-a5c8d0d23fc5",
   "metadata": {},
   "outputs": [
    {
     "name": "stdout",
     "output_type": "stream",
     "text": [
      "\n",
      "DataFrame after inserting a new column:\n",
      "                        Companys           Contact  Revenue  Country\n",
      "0           Alfreds Futterkiste      Maria Anders       50  Germany\n",
      "1    Centro comercial Moctezuma   Francisco Chang       60   Mexico\n",
      "2                  Ernst Handel     Roland Mendel       55  Austria\n",
      "3                Island Trading     Helen Bennett       80       UK\n",
      "4  Laughing Bacchus Winecellars   Yoshi Tannamuri       45   Canada\n",
      "5  Magazzini Alimentari Riuniti  Giovanni Rovelli       70    Italy\n"
     ]
    }
   ],
   "source": [
    "# 5. Add a new column at a specific location (e.g., at index 2)\n",
    "df1.insert(2, \"Revenue\", [50, 60, 55, 80, 45, 70])  # Example values\n",
    "print(\"\\nDataFrame after inserting a new column:\\n\", df1)\n"
   ]
  },
  {
   "cell_type": "code",
   "execution_count": 16,
   "id": "a417fbde-7adb-4eea-95c0-018e603c65eb",
   "metadata": {},
   "outputs": [
    {
     "name": "stdout",
     "output_type": "stream",
     "text": [
      "\n",
      "DataFrame after inserting a new column:\n",
      "                        Companys           Contact  Revenue  Country  \\\n",
      "0           Alfreds Futterkiste      Maria Anders       50  Germany   \n",
      "1    Centro comercial Moctezuma   Francisco Chang       60   Mexico   \n",
      "2                  Ernst Handel     Roland Mendel       55  Austria   \n",
      "3                Island Trading     Helen Bennett       80       UK   \n",
      "4  Laughing Bacchus Winecellars   Yoshi Tannamuri       45   Canada   \n",
      "5  Magazzini Alimentari Riuniti  Giovanni Rovelli       70    Italy   \n",
      "\n",
      "   Population  \n",
      "0           5  \n",
      "1           6  \n",
      "2          15  \n",
      "3           8  \n",
      "4           4  \n",
      "5           7  \n"
     ]
    }
   ],
   "source": [
    "# 5. Add a new column at the end\n",
    "df1[\"Population\"]= [5, 6, 15, 8, 4, 7]  # Example values\n",
    "print(\"\\nDataFrame after inserting a new column:\\n\", df1)"
   ]
  },
  {
   "cell_type": "code",
   "execution_count": 17,
   "id": "06e9d007-c75e-4c97-846a-254b88c7daad",
   "metadata": {},
   "outputs": [
    {
     "name": "stdout",
     "output_type": "stream",
     "text": [
      "\n",
      "DataFrame after dropping a column:\n",
      "                        Companys           Contact  Revenue  Country\n",
      "0           Alfreds Futterkiste      Maria Anders       50  Germany\n",
      "1    Centro comercial Moctezuma   Francisco Chang       60   Mexico\n",
      "2                  Ernst Handel     Roland Mendel       55  Austria\n",
      "3                Island Trading     Helen Bennett       80       UK\n",
      "4  Laughing Bacchus Winecellars   Yoshi Tannamuri       45   Canada\n",
      "5  Magazzini Alimentari Riuniti  Giovanni Rovelli       70    Italy\n"
     ]
    }
   ],
   "source": [
    "# 6. Drop an unnecessary column\n",
    "df1.drop(columns=[\"Population\"], inplace=True)\n",
    "print(\"\\nDataFrame after dropping a column:\\n\", df1)\n"
   ]
  },
  {
   "cell_type": "code",
   "execution_count": 18,
   "id": "16e3803b-abd6-459c-9d8b-133f732edc1d",
   "metadata": {},
   "outputs": [
    {
     "name": "stdout",
     "output_type": "stream",
     "text": [
      "                       Companys           Contact  Revenue  Country\n",
      "0           Alfreds Futterkiste      Maria Anders       50  Germany\n",
      "1    Centro comercial Moctezuma   Francisco Chang       60   Mexico\n",
      "2                  Ernst Handel     Roland Mendel       55  Austria\n",
      "3                Island Trading     Helen Bennett       80       UK\n",
      "4  Laughing Bacchus Winecellars   Yoshi Tannamuri       45   Canada\n",
      "5  Magazzini Alimentari Riuniti  Giovanni Rovelli       70    Italy\n"
     ]
    }
   ],
   "source": [
    "print(df1)"
   ]
  },
  {
   "cell_type": "code",
   "execution_count": 20,
   "id": "1fbb9366-8c97-48a5-993c-c0130c90ad62",
   "metadata": {},
   "outputs": [
    {
     "name": "stdout",
     "output_type": "stream",
     "text": [
      "\n",
      "DataFrame after appending a new row:\n",
      "                        Companys           Contact  Revenue  Country\n",
      "0           Alfreds Futterkiste      Maria Anders       50  Germany\n",
      "1    Centro comercial Moctezuma   Francisco Chang       60   Mexico\n",
      "2                  Ernst Handel     Roland Mendel       55  Austria\n",
      "3                Island Trading     Helen Bennett       80       UK\n",
      "4  Laughing Bacchus Winecellars   Yoshi Tannamuri       45   Canada\n",
      "5  Magazzini Alimentari Riuniti  Giovanni Rovelli       70    Italy\n",
      "6                    Tesla Inc.         Elon Musk       50      USA\n"
     ]
    }
   ],
   "source": [
    "# 7. Append a new row\n",
    "new_row = pd.DataFrame([[\"Tesla Inc.\", \"Elon Musk\", 50,\"USA\"]], columns=df1.columns)\n",
    "df1 = pd.concat([df1, new_row], ignore_index=True)\n",
    "print(\"\\nDataFrame after appending a new row:\\n\", df1)"
   ]
  },
  {
   "cell_type": "code",
   "execution_count": 21,
   "id": "39ce737a-6c55-4684-bd73-71e843b5c36b",
   "metadata": {},
   "outputs": [
    {
     "name": "stdout",
     "output_type": "stream",
     "text": [
      "\n",
      "DataFrame after dropping a row:\n",
      "                        Companys           Contact  Revenue  Country\n",
      "0           Alfreds Futterkiste      Maria Anders       50  Germany\n",
      "1    Centro comercial Moctezuma   Francisco Chang       60   Mexico\n",
      "2                  Ernst Handel     Roland Mendel       55  Austria\n",
      "3                Island Trading     Helen Bennett       80       UK\n",
      "4  Laughing Bacchus Winecellars   Yoshi Tannamuri       45   Canada\n",
      "5  Magazzini Alimentari Riuniti  Giovanni Rovelli       70    Italy\n"
     ]
    }
   ],
   "source": [
    "# 8. Drop a row (e.g., dropping the last row)\n",
    "df1.drop(df1.index[-1], inplace=True)\n",
    "print(\"\\nDataFrame after dropping a row:\\n\", df1)"
   ]
  },
  {
   "cell_type": "code",
   "execution_count": 22,
   "id": "c53e5d1d-2c75-4f1b-8d80-0e31d0e2296a",
   "metadata": {},
   "outputs": [
    {
     "name": "stdout",
     "output_type": "stream",
     "text": [
      "\n",
      "DataFrame after updating a row value:\n",
      "                        Companys           Contact  Revenue  Country\n",
      "0           Alfreds Futterkiste      Maria Anders       95  Germany\n",
      "1    Centro comercial Moctezuma   Francisco Chang       60   Mexico\n",
      "2                  Ernst Handel     Roland Mendel       55  Austria\n",
      "3                Island Trading     Helen Bennett       80       UK\n",
      "4  Laughing Bacchus Winecellars   Yoshi Tannamuri       45   Canada\n",
      "5  Magazzini Alimentari Riuniti  Giovanni Rovelli       70    Italy\n"
     ]
    }
   ],
   "source": [
    "# 9. Update a specific row value (e.g., update revenue of first company)\n",
    "df1.loc[0, \"Revenue\"] = 95\n",
    "print(\"\\nDataFrame after updating a row value:\\n\", df1)"
   ]
  },
  {
   "cell_type": "code",
   "execution_count": 23,
   "id": "fe13bb45-c240-43a9-b81d-61dba08f21b0",
   "metadata": {},
   "outputs": [
    {
     "name": "stdout",
     "output_type": "stream",
     "text": [
      "\n",
      "Head:\n",
      "                        Companys          Contact  Revenue  Country\n",
      "0           Alfreds Futterkiste     Maria Anders       95  Germany\n",
      "1    Centro comercial Moctezuma  Francisco Chang       60   Mexico\n",
      "2                  Ernst Handel    Roland Mendel       55  Austria\n",
      "3                Island Trading    Helen Bennett       80       UK\n",
      "4  Laughing Bacchus Winecellars  Yoshi Tannamuri       45   Canada\n",
      "\n",
      "Tail:\n",
      "                        Companys           Contact  Revenue  Country\n",
      "1    Centro comercial Moctezuma   Francisco Chang       60   Mexico\n",
      "2                  Ernst Handel     Roland Mendel       55  Austria\n",
      "3                Island Trading     Helen Bennett       80       UK\n",
      "4  Laughing Bacchus Winecellars   Yoshi Tannamuri       45   Canada\n",
      "5  Magazzini Alimentari Riuniti  Giovanni Rovelli       70    Italy\n",
      "\n",
      "Info:\n",
      "<class 'pandas.core.frame.DataFrame'>\n",
      "RangeIndex: 6 entries, 0 to 5\n",
      "Data columns (total 4 columns):\n",
      " #   Column    Non-Null Count  Dtype \n",
      "---  ------    --------------  ----- \n",
      " 0   Companys  6 non-null      object\n",
      " 1   Contact   6 non-null      object\n",
      " 2   Revenue   6 non-null      int64 \n",
      " 3   Country   6 non-null      object\n",
      "dtypes: int64(1), object(3)\n",
      "memory usage: 324.0+ bytes\n",
      "None\n",
      "\n",
      "Describe:\n",
      "          Revenue\n",
      "count   6.000000\n",
      "mean   67.500000\n",
      "std    18.096961\n",
      "min    45.000000\n",
      "25%    56.250000\n",
      "50%    65.000000\n",
      "75%    77.500000\n",
      "max    95.000000\n"
     ]
    }
   ],
   "source": [
    "# 10. Perform basic operations\n",
    "print(\"\\nHead:\\n\", df1.head())\n",
    "print(\"\\nTail:\\n\", df1.tail())\n",
    "print(\"\\nInfo:\")\n",
    "print(df1.info())\n",
    "print(\"\\nDescribe:\\n\", df1.describe())"
   ]
  },
  {
   "cell_type": "code",
   "execution_count": 24,
   "id": "55da11b8-596f-423d-9a6e-258b40b32c0b",
   "metadata": {},
   "outputs": [
    {
     "name": "stdout",
     "output_type": "stream",
     "text": [
      "\n",
      "Sum:\n",
      " 405\n",
      "\n",
      "Min:\n",
      " 45\n",
      "\n",
      "Max:\n",
      " 95\n",
      "\n",
      "Std Dev:\n",
      " 18.096961070853858\n",
      "\n",
      "Mean:\n",
      " 67.5\n",
      "\n",
      "Mode:\n",
      " 0    45\n",
      "1    55\n",
      "2    60\n",
      "3    70\n",
      "4    80\n",
      "5    95\n",
      "Name: Revenue, dtype: int64\n"
     ]
    }
   ],
   "source": [
    "\n",
    "print(\"\\nSum:\\n\", df1[\"Revenue\"].sum())\n",
    "print(\"\\nMin:\\n\", df1[\"Revenue\"].min())\n",
    "print(\"\\nMax:\\n\", df1[\"Revenue\"].max())\n",
    "print(\"\\nStd Dev:\\n\", df1[\"Revenue\"].std())\n",
    "print(\"\\nMean:\\n\", df1[\"Revenue\"].mean())\n",
    "print(\"\\nMode:\\n\", df1[\"Revenue\"].mode())\n"
   ]
  },
  {
   "cell_type": "code",
   "execution_count": 26,
   "id": "87173aec-b80f-465e-a8aa-51d648e5aa56",
   "metadata": {},
   "outputs": [
    {
     "name": "stdout",
     "output_type": "stream",
     "text": [
      "\n",
      "Subset Rows (First 3 rows):\n",
      "                      Companys          Contact  Revenue  Country\n",
      "0         Alfreds Futterkiste     Maria Anders       95  Germany\n",
      "1  Centro comercial Moctezuma  Francisco Chang       60   Mexico\n",
      "2                Ernst Handel    Roland Mendel       55  Austria\n"
     ]
    }
   ],
   "source": [
    "# 11. Subsetting rows\n",
    "print(\"\\nSubset Rows (First 3 rows):\\n\", df1.iloc[:3])"
   ]
  },
  {
   "cell_type": "code",
   "execution_count": 27,
   "id": "76a2ba28-ab73-4f8e-894e-d0f628a1c710",
   "metadata": {},
   "outputs": [
    {
     "name": "stdout",
     "output_type": "stream",
     "text": [
      "\n",
      "Subset Columns (Company Name and Revenue):\n",
      "                        Companys  Revenue\n",
      "0           Alfreds Futterkiste       95\n",
      "1    Centro comercial Moctezuma       60\n",
      "2                  Ernst Handel       55\n",
      "3                Island Trading       80\n",
      "4  Laughing Bacchus Winecellars       45\n",
      "5  Magazzini Alimentari Riuniti       70\n"
     ]
    }
   ],
   "source": [
    "# 12. Subsetting columns\n",
    "print(\"\\nSubset Columns (Company Name and Revenue):\\n\", df1[[\"Companys\", \"Revenue\"]])"
   ]
  },
  {
   "cell_type": "code",
   "execution_count": 28,
   "id": "b83e2b6b-ce46-431b-b7c7-e15684804251",
   "metadata": {},
   "outputs": [
    {
     "name": "stdout",
     "output_type": "stream",
     "text": [
      "\n",
      "Subset Specific Rows and Columns:\n",
      "                      Companys  Revenue\n",
      "1  Centro comercial Moctezuma       60\n",
      "2                Ernst Handel       55\n",
      "3              Island Trading       80\n"
     ]
    }
   ],
   "source": [
    "# 13. Subsetting rows and columns\n",
    "print(\"\\nSubset Specific Rows and Columns:\\n\", df1.loc[1:3, [\"Companys\", \"Revenue\"]])"
   ]
  },
  {
   "cell_type": "code",
   "execution_count": 31,
   "id": "c7b8cccc-1978-48f5-b5a8-3d375cc493bc",
   "metadata": {},
   "outputs": [
    {
     "name": "stdout",
     "output_type": "stream",
     "text": [
      "\n",
      "Subsetting by Label:\n",
      "                        Companys          Contact  Revenue Country\n",
      "4  Laughing Bacchus Winecellars  Yoshi Tannamuri       45  Canada\n"
     ]
    }
   ],
   "source": [
    "# 14. Subsetting by label\n",
    "print(\"\\nSubsetting by Label:\\n\", df1.loc[df1[\"Country\"] == \"Canada\"])"
   ]
  },
  {
   "cell_type": "code",
   "execution_count": 32,
   "id": "bf849e43-406c-4075-ad2b-4107684dd2b1",
   "metadata": {},
   "outputs": [
    {
     "name": "stdout",
     "output_type": "stream",
     "text": [
      "\n",
      "Subsetting by Position:\n",
      "            Contact  Revenue\n",
      "2    Roland Mendel       55\n",
      "3    Helen Bennett       80\n",
      "4  Yoshi Tannamuri       45\n"
     ]
    }
   ],
   "source": [
    "# 15. Subsetting by position\n",
    "print(\"\\nSubsetting by Position:\\n\", df1.iloc[2:5, 1:3])"
   ]
  },
  {
   "cell_type": "code",
   "execution_count": 37,
   "id": "beb936ba-2d76-48a0-aef7-69d96008a8d6",
   "metadata": {},
   "outputs": [
    {
     "name": "stdout",
     "output_type": "stream",
     "text": [
      "\n",
      "Filtered DataFrame (Revenue > 60):\n",
      "                        Companys           Contact  Revenue  Country\n",
      "0           Alfreds Futterkiste      Maria Anders       95  Germany\n",
      "3                Island Trading     Helen Bennett       80       UK\n",
      "5  Magazzini Alimentari Riuniti  Giovanni Rovelli       70    Italy\n"
     ]
    }
   ],
   "source": [
    "# 16. Filtering DataFrame\n",
    "# Single condition: Revenue greater than 60\n",
    "filtered_df1 = df1[df1[\"Revenue\"] > 60]\n",
    "print(\"\\nFiltered DataFrame (Revenue > 60):\\n\", filtered_df1)"
   ]
  },
  {
   "cell_type": "code",
   "execution_count": 38,
   "id": "6fab010b-dc93-42b6-9a87-553586a2f8d7",
   "metadata": {},
   "outputs": [
    {
     "name": "stdout",
     "output_type": "stream",
     "text": [
      "\n",
      "Filtered DataFrame (Revenue > 60):\n",
      "                        Companys           Contact  Revenue Country\n",
      "3                Island Trading     Helen Bennett       80      UK\n",
      "5  Magazzini Alimentari Riuniti  Giovanni Rovelli       70   Italy\n"
     ]
    }
   ],
   "source": [
    "# 16. Filtering DataFrame\n",
    "# multiple condition: Revenue greater than 60 and country either UK or Italy\n",
    "\n",
    "filtered_df2 = df1[(df1[\"Revenue\"] > 60) & (df1[\"Country\"].isin([\"UK\", \"Italy\"]))]\n",
    "print(\"\\nFiltered DataFrame (Revenue > 60):\\n\", filtered_df2)"
   ]
  },
  {
   "cell_type": "code",
   "execution_count": 39,
   "id": "75be9c69-d312-41b4-8c7e-a71c5965e875",
   "metadata": {},
   "outputs": [
    {
     "name": "stdout",
     "output_type": "stream",
     "text": [
      "\n",
      "Filtered DataFrame (Revenue > 60):\n",
      "                        Companys           Contact  Revenue Country\n",
      "3                Island Trading     Helen Bennett       80      UK\n",
      "5  Magazzini Alimentari Riuniti  Giovanni Rovelli       70   Italy\n"
     ]
    }
   ],
   "source": [
    "# 16. Filtering DataFrame\n",
    "# multiple condition: Revenue greater than 60 and country either UK or Italy\n",
    "filtered_df3 = df1[(df1[\"Revenue\"] > 60) & ((df1[\"Country\"] == \"UK\") | (df1[\"Country\"] == \"Italy\"))]\n",
    "print(\"\\nFiltered DataFrame (Revenue > 60):\\n\", filtered_df3)"
   ]
  },
  {
   "cell_type": "code",
   "execution_count": null,
   "id": "5d04bb94-876a-41eb-81e3-3abc368eba76",
   "metadata": {},
   "outputs": [],
   "source": []
  }
 ],
 "metadata": {
  "kernelspec": {
   "display_name": "Python 3 (ipykernel)",
   "language": "python",
   "name": "python3"
  },
  "language_info": {
   "codemirror_mode": {
    "name": "ipython",
    "version": 3
   },
   "file_extension": ".py",
   "mimetype": "text/x-python",
   "name": "python",
   "nbconvert_exporter": "python",
   "pygments_lexer": "ipython3",
   "version": "3.12.4"
  }
 },
 "nbformat": 4,
 "nbformat_minor": 5
}
